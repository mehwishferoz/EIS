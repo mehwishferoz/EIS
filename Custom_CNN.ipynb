{
  "nbformat": 4,
  "nbformat_minor": 0,
  "metadata": {
    "colab": {
      "provenance": [],
      "authorship_tag": "ABX9TyMF5RdpKExIG2d0pUoZDGpf",
      "include_colab_link": true
    },
    "kernelspec": {
      "name": "python3",
      "display_name": "Python 3"
    },
    "language_info": {
      "name": "python"
    }
  },
  "cells": [
    {
      "cell_type": "markdown",
      "metadata": {
        "id": "view-in-github",
        "colab_type": "text"
      },
      "source": [
        "<a href=\"https://colab.research.google.com/github/mehwishferoz/EIS/blob/master/Custom_CNN.ipynb\" target=\"_parent\"><img src=\"https://colab.research.google.com/assets/colab-badge.svg\" alt=\"Open In Colab\"/></a>"
      ]
    },
    {
      "cell_type": "code",
      "execution_count": null,
      "metadata": {
        "id": "RrMZdIc6m8iW"
      },
      "outputs": [],
      "source": [
        "import torch\n",
        "import torch.nn as nn\n",
        "import torch.nn.functional as F\n",
        "from torchvision import datasets, transforms\n",
        "import torch.optim as optim\n",
        "from torch.utils.data import DataLoader"
      ]
    },
    {
      "cell_type": "code",
      "source": [
        "class CustomCNN(nn.Module):\n",
        "  def __init__(self):\n",
        "    super(CustomCNN, self).__init__()\n",
        "    # 1st Conv layer\n",
        "    self.conv1 = nn.Conv2d(in_channels=3, out_channels=32, kernel_size=3, padding=1);\n",
        "    self.pool1 = nn.MaxPool2d(kernel_size=2, stride=2)\n",
        "\n",
        "    # 2nd Conv layer\n",
        "    self.conv2 = nn.Conv2d(in_channels=32, out_channels=64, kernel_size=3, padding=1)\n",
        "    self.pool2 = nn.MaxPool2d(kernel_size=2, stride=2)\n",
        "\n",
        "    # 3rd Conv layer\n",
        "    self.conv3 = nn.Conv2d(in_channels=64, out_channels=128, kernel_size=3, padding=1)\n",
        "    self.pool3 = nn.MaxPool2d(kernel_size=2, stride=2)\n",
        "\n",
        "    # FC layers\n",
        "    self.fc1 = nn.Linear(128 * 28 * 28, 512)\n",
        "    self.fc2 = nn.Linear(512, 256)\n",
        "    self.fc3 = nn.Linear(256, 40)\n",
        "\n",
        "    def forward(self, x):\n",
        "      x = self.pool1(F.relu(self.conv1(x)))\n",
        "      x = self.pool2(F.relu(self.conv2(x)))\n",
        "      x = self.pool3(F.relu(self.conv3(x)))\n",
        "      x = x.view(-1, 128 * 28 * 28)\n",
        "      x = F.relu(self.fc1(x))\n",
        "      x = F.relu(self.fc2(x))\n",
        "      x = self.fc3(x)\n",
        "      return x"
      ],
      "metadata": {
        "id": "MrqnkSgytqQ8"
      },
      "execution_count": null,
      "outputs": []
    },
    {
      "cell_type": "code",
      "source": [
        "# Instantiate the model\n",
        "model = CustomCNN()\n",
        "\n",
        "# Quantization configuration\n",
        "model.qconfig = torch.quantization.get_default_qconfig('fbgemm')\n",
        "\n",
        "# Fuse Conv, BN and ReLU layers (if any)\n",
        "# Assuming no BatchNorm in this specific model, so no fusion step required\n",
        "\n",
        "# Prepare the model for quantization\n",
        "model_prepared = torch.quantization.prepare(model)\n",
        "\n",
        "# Convert the model to a quantized version\n",
        "model_quantized = torch.quantization.convert(model_prepared)\n",
        "\n",
        "# Save the quantized model to a file\n",
        "torch.save(model_quantized.state_dict(), \"model_32.pt\")\n",
        "\n",
        "# You can also save the entire model with structure\n",
        "torch.save(model_quantized, \"model_32_complete.pt\")"
      ],
      "metadata": {
        "id": "34YQS3kV96Ap"
      },
      "execution_count": null,
      "outputs": []
    }
  ]
}